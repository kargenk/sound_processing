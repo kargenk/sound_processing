{
 "cells": [
  {
   "cell_type": "code",
   "execution_count": 1,
   "metadata": {},
   "outputs": [],
   "source": [
    "#!/usr/bin/env python3\n",
    "# -*- coding: utf-8 -*"
   ]
  },
  {
   "cell_type": "code",
   "execution_count": 52,
   "metadata": {},
   "outputs": [],
   "source": [
    "import wave\n",
    "import numpy as np\n",
    "import struct\n",
    "import matplotlib.pyplot as plt\n",
    "%matplotlib inline"
   ]
  },
  {
   "cell_type": "code",
   "execution_count": 16,
   "metadata": {},
   "outputs": [],
   "source": [
    "def get_wav_info(wav_file):\n",
    "    \"\"\"\n",
    "    wavファイルの各情報を取得する関数．\n",
    "    \n",
    "    Parameters\n",
    "    ----------\n",
    "    wave_file : object\n",
    "        wav形式のファイルを読み込んだもの\n",
    "    \n",
    "    returns\n",
    "    ----------\n",
    "    n_channels : int\n",
    "        チャネル数:monoなら1，stereoなら2，5.1chなら6(たぶん)\n",
    "    sample_width : int\n",
    "        音声データ1サンプルあたりのバイト数\n",
    "    framerate : int\n",
    "        サンプリング周波数\n",
    "    n_frames : int\n",
    "        音声のデータ点の数\n",
    "    \"\"\"\n",
    "    # チャネル数:monoなら1，stereoなら2，5.1chなら6(たぶん)\n",
    "    n_channels = wav_file.getnchannels()\n",
    "\n",
    "    # 音声データ1サンプルあたりのバイト数．2なら2bytes(16bit)，3なら24bitなど\n",
    "    sample_width = wav_file.getsampwidth()\n",
    "\n",
    "    # サンプリング周波数，普通のCDなら44.1k\n",
    "    framerate = wav_file.getframerate()\n",
    "\n",
    "    # 音声のデータ点の数\n",
    "    n_frames = wav_file.getnframes()\n",
    "    \n",
    "    return n_channels, sample_width, framerate, n_frames"
   ]
  },
  {
   "cell_type": "code",
   "execution_count": 54,
   "metadata": {},
   "outputs": [
    {
     "name": "stdout",
     "output_type": "stream",
     "text": [
      "[ 2493  -603  2480  2480  2579  1402  3220 -1060  3129  3129  3138  1416\n",
      "  3949]\n"
     ]
    }
   ],
   "source": [
    "# バイナリ形式で開く\n",
    "with open('./P_file/surround_5.1.raw', 'rb') as raw:\n",
    "    # h:C言語でのshort型，<:リトルエンディアンで読み込む\n",
    "    raw_data = np.fromfile(raw, dtype='<h', sep='')\n",
    "print(raw_data[:13])"
   ]
  },
  {
   "cell_type": "code",
   "execution_count": 55,
   "metadata": {},
   "outputs": [],
   "source": [
    "# L(左前)，C(中央)，R(右前)，LS(左後)，RS(右後)，LFE(スーパーウーファ)\n",
    "# 上記の全6ch分のデータが格納されているので，それぞれに分ける\n",
    "left = raw_data[::6]\n",
    "center = raw_data[1::6]\n",
    "right = raw_data[2::6]\n",
    "left_back = raw_data[3::6]\n",
    "right_back = raw_data[4::6]\n",
    "woofer = raw_data[5::6]"
   ]
  },
  {
   "cell_type": "code",
   "execution_count": 58,
   "metadata": {},
   "outputs": [],
   "source": [
    "positions_dict = {'L': left, 'C': center, 'R': right,\n",
    "             'LS': left_back, 'RS': right_back, 'LFE': woofer}\n",
    "\n",
    "for position, data in positions_dict.items():\n",
    "    # 今回はいらない，npとかで小数点の値で生成している場合に使う\n",
    "    # left_wave = [int(x * 32767.0) for x in left]           # 16bit符号付き整数に変換\n",
    "    binwave = struct.pack('h' * len(data), *data)  # バイナリ化\n",
    "\n",
    "    with wave.Wave_write('./P_file/surround_5.1_' + position + '.wav') as wav:\n",
    "        # チャンネル数(1:モノラル,2:ステレオ)，サンプルサイズ(バイト)，サンプリング周波数，フレーム数\n",
    "        params = (1, 2, 16000, len(binwave), 'NONE', 'not compressed')\n",
    "        wav.setparams(params)\n",
    "        wav.writeframes(binwave)"
   ]
  },
  {
   "cell_type": "code",
   "execution_count": 59,
   "metadata": {},
   "outputs": [
    {
     "name": "stdout",
     "output_type": "stream",
     "text": [
      "b'\\xbd\\t\\x94\\x0cm'\n",
      "channels : 1\n",
      "sample size : 2\n",
      "sampling rate : 16000\n",
      "data points : 80000\n"
     ]
    }
   ],
   "source": [
    "# データのチェック\n",
    "file_path = './P_file/surround_5.1_L.wav'\n",
    "\n",
    "with wave.open(file_path, 'r') as wav:\n",
    "    n_channels, sample_width, framerate, n_frames = get_wav_info(wav)\n",
    "    buf = wav.readframes(1024)  # 一部を読み込む場合\n",
    "#     buf = wav.readframes(-1)  # 全て読み込む場合\n",
    "\n",
    "print(buf[:5])  # バイナリで返ってくる\n",
    "print('channels :', n_channels)\n",
    "print('sample size :', sample_width)\n",
    "print('sampling rate :', framerate)\n",
    "print('data points :', n_frames)"
   ]
  },
  {
   "cell_type": "code",
   "execution_count": null,
   "metadata": {},
   "outputs": [],
   "source": []
  }
 ],
 "metadata": {
  "kernelspec": {
   "display_name": "Python 3",
   "language": "python",
   "name": "python3"
  },
  "language_info": {
   "codemirror_mode": {
    "name": "ipython",
    "version": 3
   },
   "file_extension": ".py",
   "mimetype": "text/x-python",
   "name": "python",
   "nbconvert_exporter": "python",
   "pygments_lexer": "ipython3",
   "version": "3.6.5"
  }
 },
 "nbformat": 4,
 "nbformat_minor": 2
}
