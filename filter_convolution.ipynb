{
 "cells": [
  {
   "cell_type": "code",
   "execution_count": 1,
   "metadata": {},
   "outputs": [],
   "source": [
    "#!/usr/bin/env python3\n",
    "# -*- coding: utf-8 -*-"
   ]
  },
  {
   "cell_type": "code",
   "execution_count": 63,
   "metadata": {},
   "outputs": [],
   "source": [
    "import librosa\n",
    "import librosa.display\n",
    "import IPython\n",
    "import numpy as np\n",
    "\n",
    "from util import save_wav"
   ]
  },
  {
   "cell_type": "code",
   "execution_count": 12,
   "metadata": {},
   "outputs": [],
   "source": [
    "# 各フィルタをバイナリ形式で開く\n",
    "filter_names = ['lpf', 'bpf', 'hpf']\n",
    "filter_dict = {}\n",
    "for name in filter_names:\n",
    "    with open('./P_file/'+ name + '.fir', 'rb') as raw:\n",
    "        # d:C言語でのdouble型，<:リトルエンディアンで読み込む\n",
    "        filter_dict[name] = np.fromfile(raw, dtype='<d', sep='')"
   ]
  },
  {
   "cell_type": "code",
   "execution_count": 18,
   "metadata": {},
   "outputs": [
    {
     "data": {
      "text/plain": [
       "array([-2.31975571e-24,  1.15855666e-10, -5.39047081e-23, ...,\n",
       "       -6.31278196e-10, -5.39047081e-23,  1.15855666e-10])"
      ]
     },
     "execution_count": 18,
     "metadata": {},
     "output_type": "execute_result"
    }
   ],
   "source": [
    "filter_dict['hpf']"
   ]
  },
  {
   "cell_type": "code",
   "execution_count": 28,
   "metadata": {},
   "outputs": [],
   "source": [
    "# バイナリ形式で開く\n",
    "with open('./P_file/surround_5.1.raw', 'rb') as raw:\n",
    "    # h:C言語でのshort型，<:リトルエンディアンで読み込む\n",
    "    raw_data = np.fromfile(raw, dtype='<h', sep='')\n",
    "    \n",
    "# L(左前)，C(中央)，R(右前)，LS(左後)，RS(右後)，LFE(スーパーウーファ)\n",
    "# 上記の全6ch分のデータが格納されているので，それぞれに分ける\n",
    "left = raw_data[::6]\n",
    "center = raw_data[1::6]\n",
    "right = raw_data[2::6]\n",
    "left_back = raw_data[3::6]\n",
    "right_back = raw_data[4::6]\n",
    "woofer = raw_data[5::6]\n",
    "\n",
    "# 該当式によるステレオ信号を作成\n",
    "L_o = ((left + 0.5 * center + 0.5 * left_back) / 2.0).astype(np.int16)\n",
    "R_o = ((right + 0.5 * center + 0.5 * right_back) / 2.0).astype(np.int16)\n",
    "C = ((L_o + R_o) / 2).astype(np.int16)"
   ]
  },
  {
   "cell_type": "code",
   "execution_count": 62,
   "metadata": {},
   "outputs": [],
   "source": [
    "for fir, data in filter_dict.items():\n",
    "    out = []            # 畳み込み演算後の結果を格納\n",
    "    offset = data.size  # フィルタのサイズ\n",
    "    \n",
    "    # 命名\n",
    "    if fir == 'hpf':\n",
    "        name = 'high-pass_filter'\n",
    "    elif fir == 'lpf':\n",
    "        name = 'low-pass_filter'\n",
    "    else:\n",
    "        name = 'band-pass_filter'\n",
    "        \n",
    "    # 畳み込み演算\n",
    "    for i in range(C.size - offset):\n",
    "        out.append((C[i:i+offset] * data).sum())\n",
    "    \n",
    "    # 音源の保存\n",
    "    out = np.array(out).astype(np.int16)\n",
    "    save_wav('./P_file/' + name + '.wav', out)"
   ]
  },
  {
   "cell_type": "code",
   "execution_count": null,
   "metadata": {},
   "outputs": [],
   "source": []
  }
 ],
 "metadata": {
  "kernelspec": {
   "display_name": "Python 3",
   "language": "python",
   "name": "python3"
  },
  "language_info": {
   "codemirror_mode": {
    "name": "ipython",
    "version": 3
   },
   "file_extension": ".py",
   "mimetype": "text/x-python",
   "name": "python",
   "nbconvert_exporter": "python",
   "pygments_lexer": "ipython3",
   "version": "3.6.5"
  }
 },
 "nbformat": 4,
 "nbformat_minor": 2
}
